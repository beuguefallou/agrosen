{
 "cells": [
  {
   "cell_type": "markdown",
   "id": "52c20970",
   "metadata": {},
   "source": [
    "___"
   ]
  },
  {
   "cell_type": "markdown",
   "id": "0e697b8d",
   "metadata": {},
   "source": [
    "# Plant classification model by disease"
   ]
  },
  {
   "cell_type": "markdown",
   "id": "7cd5eb0c",
   "metadata": {},
   "source": [
    "___"
   ]
  },
  {
   "cell_type": "markdown",
   "id": "3a75540d",
   "metadata": {},
   "source": [
    "Plant image classification model based on the public PlantVillage dataset. Before this, we manually cleaned data that we considered unnecessary and combined data that had the same disease to make it more compact."
   ]
  },
  {
   "cell_type": "markdown",
   "id": "c555d668",
   "metadata": {},
   "source": [
    "## Imports"
   ]
  },
  {
   "cell_type": "code",
   "execution_count": 1,
   "id": "cfb38853",
   "metadata": {},
   "outputs": [
    {
     "ename": "ModuleNotFoundError",
     "evalue": "No module named 'tensorflow'",
     "output_type": "error",
     "traceback": [
      "\u001b[31m---------------------------------------------------------------------------\u001b[39m",
      "\u001b[31mModuleNotFoundError\u001b[39m                       Traceback (most recent call last)",
      "\u001b[36mCell\u001b[39m\u001b[36m \u001b[39m\u001b[32mIn[1]\u001b[39m\u001b[32m, line 4\u001b[39m\n\u001b[32m      1\u001b[39m \u001b[38;5;28;01mimport\u001b[39;00m\u001b[38;5;250m \u001b[39m\u001b[34;01mos\u001b[39;00m\n\u001b[32m      2\u001b[39m os.environ[\u001b[33m'\u001b[39m\u001b[33mTF_CPP_MIN_LOG_LEVEL\u001b[39m\u001b[33m'\u001b[39m]=\u001b[33m'\u001b[39m\u001b[33m2\u001b[39m\u001b[33m'\u001b[39m\n\u001b[32m----> \u001b[39m\u001b[32m4\u001b[39m \u001b[38;5;28;01mimport\u001b[39;00m\u001b[38;5;250m \u001b[39m\u001b[34;01mtensorflow\u001b[39;00m\u001b[38;5;250m \u001b[39m\u001b[38;5;28;01mas\u001b[39;00m\u001b[38;5;250m \u001b[39m\u001b[34;01mtf\u001b[39;00m\n\u001b[32m      6\u001b[39m \u001b[38;5;28;01mimport\u001b[39;00m\u001b[38;5;250m \u001b[39m\u001b[34;01mmatplotlib\u001b[39;00m\u001b[34;01m.\u001b[39;00m\u001b[34;01mpyplot\u001b[39;00m\u001b[38;5;250m \u001b[39m\u001b[38;5;28;01mas\u001b[39;00m\u001b[38;5;250m \u001b[39m\u001b[34;01mplt\u001b[39;00m\n\u001b[32m      7\u001b[39m \u001b[38;5;28;01mimport\u001b[39;00m\u001b[38;5;250m \u001b[39m\u001b[34;01mnumpy\u001b[39;00m\u001b[38;5;250m \u001b[39m\u001b[38;5;28;01mas\u001b[39;00m\u001b[38;5;250m \u001b[39m\u001b[34;01mnp\u001b[39;00m\n",
      "\u001b[31mModuleNotFoundError\u001b[39m: No module named 'tensorflow'"
     ]
    }
   ],
   "source": [
    "import os\n",
    "os.environ['TF_CPP_MIN_LOG_LEVEL']='2'\n",
    "\n",
    "import tensorflow as tf\n",
    "\n",
    "import matplotlib.pyplot as plt\n",
    "import numpy as np\n",
    "import PIL\n",
    "# Version 2.15.0\n",
    "from tensorflow import keras\n",
    "from tensorflow.keras import layers\n",
    "from tensorflow.keras.models import Sequential\n",
    "\n",
    "import tensorflow as tf\n",
    "import keras\n",
    "from keras import layers\n",
    "\n",
    "tf.get_logger().setLevel('ERROR')\n",
    "from tensorflow.keras import backend as K\n",
    "\n",
    "# Establece la semilla global para reproducibilidad\n",
    "tf.random.set_seed(42)"
   ]
  },
  {
   "cell_type": "markdown",
   "id": "0bc6fe3e",
   "metadata": {},
   "source": [
    "____"
   ]
  },
  {
   "cell_type": "markdown",
   "id": "34a74c1b",
   "metadata": {},
   "source": [
    "## Data extraction"
   ]
  },
  {
   "cell_type": "code",
   "execution_count": 28,
   "id": "0690d221",
   "metadata": {},
   "outputs": [
    {
     "name": "stdout",
     "output_type": "stream",
     "text": [
      "Found 14969 files belonging to 11 classes.\n",
      "Using 11976 files for training.\n",
      "Found 14969 files belonging to 11 classes.\n",
      "Using 2993 files for validation.\n"
     ]
    }
   ],
   "source": [
    "tf.random.set_seed(42)\n",
    "data_dir = 'plantas_por_enfermedad'\n",
    "\n",
    "# Cargamos el nuevo dataset\n",
    "train_ds = tf.keras.utils.image_dataset_from_directory(\n",
    "  data_dir,\n",
    "  validation_split=0.2,\n",
    "  subset=\"training\",\n",
    "  seed=123,\n",
    "  image_size=(img_height, img_width),\n",
    "  batch_size=batch_size\n",
    ")\n",
    "\n",
    "val_ds = tf.keras.utils.image_dataset_from_directory(\n",
    "  data_dir,\n",
    "  validation_split=0.2,\n",
    "  subset=\"validation\",\n",
    "  seed=123,\n",
    "  image_size=(img_height, img_width),\n",
    "  batch_size=batch_size\n",
    ")"
   ]
  },
  {
   "cell_type": "code",
   "execution_count": null,
   "id": "b5bda9e4",
   "metadata": {},
   "outputs": [
    {
     "name": "stdout",
     "output_type": "stream",
     "text": [
      "['Bacterial_spot', 'Black_Measles', 'Black_rot', 'Desconocido', 'Early_blight', 'Late_blight', 'Leaf_scorch', 'Rust', 'Scab', 'Sin plaga', 'Spot']\n"
     ]
    }
   ],
   "source": [
    "# Get the class names\n",
    "class_names = train_ds.class_names\n",
    "print(class_names)"
   ]
  },
  {
   "cell_type": "code",
   "execution_count": null,
   "id": "b1f3d1b3",
   "metadata": {},
   "outputs": [],
   "source": [
    "# Configure the dataset for performance\n",
    "\n",
    "# `AUTOTUNE` allows TensorFlow to automatically adjust the buffer size for optimal performance.\n",
    "AUTOTUNE = tf.data.AUTOTUNE\n",
    "\n",
    "# `shuffle(buffer_size)` shuffles the data in the dataset with a buffer of size `buffer_size`.\n",
    "# This helps avoid patterns in the data that could cause the model to learn incorrectly.\n",
    "# In this case, the buffer has a size of 1000.\n",
    "\n",
    "train_ds = train_ds.cache().shuffle(1000).prefetch(buffer_size=AUTOTUNE)\n",
    "\n",
    "# `cache()` saves data in memory after the first load to avoid repeated reads from disk.\n",
    "# This is useful if your dataset fits in memory and you want to speed up training.\n",
    "val_ds = val_ds.cache().prefetch(buffer_size=AUTOTUNE)\n"
   ]
  },
  {
   "cell_type": "code",
   "execution_count": null,
   "id": "cd851944",
   "metadata": {},
   "outputs": [],
   "source": [
    "# Create a basic Keras model with data augmentation and dropout\n",
    "\n",
    "# Data Augmentation\n",
    "data_augmentation = keras.Sequential(\n",
    "  [\n",
    "    layers.RandomFlip(\"horizontal\", input_shape=(img_height, img_width, 3)),\n",
    "    layers.RandomRotation(0.2),  # Increase rotation range\n",
    "    layers.RandomZoom(0.2),      # Increase zoom range\n",
    "    layers.RandomContrast(0.3),  # Increase contrast\n",
    "    layers.RandomBrightness(0.2) # Add shine\n",
    "  ]\n",
    ")\n",
    "\n",
    "\n",
    "#layers.BatchNormalization(),\n",
    "\n",
    "# Normalizes the outputs of the previous layer to stabilize and speed up training.\n",
    "\n",
    "#layers.MaxPooling2D(),\n",
    "\n",
    "# Applies a max pooling operation to reduce the spatial dimensions (width and height) of the features.\n",
    "\n",
    "#layers.GlobalAveragePooling2D(),\n",
    "\n",
    "# Performs a global average over all spatial features to reduce the tensor to a single dimension.\n",
    "\n",
    "#layers.Dropout(0.4),\n",
    "# Applies dropout at a rate of 40% to reduce overfitting during training.\n",
    "\n",
    "# Create the model\n",
    "num_classes = len(class_names)\n",
    "\n",
    "model = Sequential([\n",
    "    layers.Input(shape=(img_height, img_width, 3)), # Define input form\n",
    "    data_augmentation,\n",
    "    layers.Rescaling(1./255),\n",
    "    layers.Conv2D(16, 3, padding='same', activation='relu'),\n",
    "    layers.BatchNormalization(),\n",
    "    layers.MaxPooling2D(),\n",
    "    layers.Conv2D(32, 3, padding='same', activation='relu'),\n",
    "    layers.BatchNormalization(),\n",
    "    layers.MaxPooling2D(),\n",
    "    layers.Dense(64, activation='relu'),\n",
    "    layers.BatchNormalization(),\n",
    "    layers.MaxPooling2D(),\n",
    "    layers.Conv2D(128, 3, padding='same', activation='relu'),\n",
    "    layers.BatchNormalization(),\n",
    "    layers.MaxPooling2D(),\n",
    "    layers.Conv2D(256, 3, padding='same', activation='relu'),\n",
    "    layers.BatchNormalization(),\n",
    "    layers.MaxPooling2D(),\n",
    "    layers.GlobalAveragePooling2D(),\n",
    "    layers.Dropout(0.4),\n",
    "    layers.Dense(128, activation='relu'),\n",
    "    layers.Dense(num_classes, activation='softmax', name=\"outputs\")\n",
    "])"
   ]
  },
  {
   "cell_type": "code",
   "execution_count": null,
   "id": "86ef5fd6",
   "metadata": {},
   "outputs": [],
   "source": [
    "from tensorflow.keras.optimizers.legacy import Adam\n",
    "\n",
    "# Configure the Adam optimizer with a learning rate of 0.0001\n",
    "model.compile(optimizer=Adam(learning_rate=1e-4),  \n",
    "              \n",
    "# Define the loss function for multiclass classification\n",
    "              loss=tf.keras.losses.SparseCategoricalCrossentropy(from_logits=False),\n",
    "              \n",
    "# Use 'accuracy' as an evaluation metric\n",
    "              metrics=['accuracy'])"
   ]
  },
  {
   "cell_type": "code",
   "execution_count": null,
   "id": "6485518b",
   "metadata": {},
   "outputs": [
    {
     "name": "stdout",
     "output_type": "stream",
     "text": [
      "Epoch 1/15\n",
      "375/375 [==============================] - 93s 211ms/step - loss: 1.4008 - accuracy: 0.5551 - val_loss: 3.1376 - val_accuracy: 0.2589\n",
      "Epoch 2/15\n",
      "375/375 [==============================] - 116s 310ms/step - loss: 0.8173 - accuracy: 0.7328 - val_loss: 0.8655 - val_accuracy: 0.7016\n",
      "Epoch 3/15\n",
      "375/375 [==============================] - 125s 334ms/step - loss: 0.6375 - accuracy: 0.7909 - val_loss: 1.2335 - val_accuracy: 0.6335\n",
      "Epoch 4/15\n",
      "375/375 [==============================] - 111s 295ms/step - loss: 0.5353 - accuracy: 0.8263 - val_loss: 0.8972 - val_accuracy: 0.7267\n",
      "Epoch 5/15\n",
      "375/375 [==============================] - 128s 340ms/step - loss: 0.4569 - accuracy: 0.8496 - val_loss: 1.1009 - val_accuracy: 0.6940\n",
      "Epoch 6/15\n",
      "375/375 [==============================] - 93s 249ms/step - loss: 0.4036 - accuracy: 0.8676 - val_loss: 1.7436 - val_accuracy: 0.6158\n",
      "Epoch 7/15\n",
      "375/375 [==============================] - 123s 329ms/step - loss: 0.3574 - accuracy: 0.8820 - val_loss: 1.2613 - val_accuracy: 0.6662\n",
      "Epoch 8/15\n",
      "375/375 [==============================] - 124s 331ms/step - loss: 0.3306 - accuracy: 0.8950 - val_loss: 0.8927 - val_accuracy: 0.7721\n",
      "Epoch 9/15\n",
      "375/375 [==============================] - 116s 309ms/step - loss: 0.3038 - accuracy: 0.9020 - val_loss: 0.9178 - val_accuracy: 0.7521\n",
      "Epoch 10/15\n",
      "375/375 [==============================] - 122s 326ms/step - loss: 0.2758 - accuracy: 0.9098 - val_loss: 0.9734 - val_accuracy: 0.7494\n",
      "Epoch 11/15\n",
      "375/375 [==============================] - 107s 285ms/step - loss: 0.2467 - accuracy: 0.9219 - val_loss: 1.0089 - val_accuracy: 0.7364\n",
      "Epoch 12/15\n",
      "375/375 [==============================] - 105s 280ms/step - loss: 0.2373 - accuracy: 0.9240 - val_loss: 0.8096 - val_accuracy: 0.7875\n",
      "Epoch 13/15\n",
      "375/375 [==============================] - 106s 283ms/step - loss: 0.2141 - accuracy: 0.9308 - val_loss: 0.8067 - val_accuracy: 0.7875\n",
      "Epoch 14/15\n",
      "375/375 [==============================] - 82s 219ms/step - loss: 0.2041 - accuracy: 0.9350 - val_loss: 0.6232 - val_accuracy: 0.7999\n",
      "Epoch 15/15\n",
      "375/375 [==============================] - 81s 216ms/step - loss: 0.1858 - accuracy: 0.9388 - val_loss: 1.0655 - val_accuracy: 0.7220\n"
     ]
    },
    {
     "data": {
      "image/png": "[encoded data removed]",
      "text/plain": [
       "<Figure size 1200x500 with 2 Axes>"
      ]
     },
     "metadata": {},
     "output_type": "display_data"
    }
   ],
   "source": [
    "# Definir callbacks\n",
    "callbacks = [\n",
    "    tf.keras.callbacks.ModelCheckpoint('plant_disease_model_best.keras', save_best_only=True, monitor='val_loss', mode='min')\n",
    "]\n",
    "\n",
    "# Train the model\n",
    "history = model.fit(\n",
    "  train_ds,\n",
    "  validation_data=val_ds,\n",
    "  epochs=15, \n",
    "  callbacks=callbacks\n",
    ")\n",
    "\n",
    "# View training results\n",
    "acc = history.history['accuracy']\n",
    "val_acc = history.history['val_accuracy']\n",
    "\n",
    "loss = history.history['loss']\n",
    "val_loss = history.history['val_loss']\n",
    "\n",
    "epochs_range = range(15)\n",
    "\n",
    "plt.figure(figsize=(12, 5))\n",
    "plt.subplot(1, 2, 1)\n",
    "plt.plot(epochs_range, acc, label='Training Accuracy')\n",
    "plt.plot(epochs_range, val_acc, label='Validation Accuracy')\n",
    "plt.legend(loc='lower right')\n",
    "plt.title('Training and Validation Accuracy')\n",
    "\n",
    "plt.subplot(1, 2, 2)\n",
    "plt.plot(epochs_range, loss, label='Training Loss')\n",
    "plt.plot(epochs_range, val_loss, label='Validation Loss')\n",
    "plt.legend(loc='upper right')\n",
    "plt.title('Training and Validation Loss')\n",
    "plt.show()"
   ]
  },
  {
   "cell_type": "code",
   "execution_count": null,
   "id": "702c6a9c",
   "metadata": {},
   "outputs": [
    {
     "name": "stdout",
     "output_type": "stream",
     "text": [
      "1/1 [==============================] - 0s 66ms/step\n",
      "Esta imagen probablemente pertenece a Bacterial_spot con una confianza del 20.22 por ciento.\n"
     ]
    }
   ],
   "source": [
    "# Predict on new data\n",
    "img_path = 'test5.jpg'\n",
    "\n",
    "img = tf.keras.utils.load_img(img_path, target_size=(img_height, img_width))\n",
    "img_array = tf.keras.utils.img_to_array(img)\n",
    "img_array = tf.expand_dims(img_array, 0)  # Crear un batch\n",
    "\n",
    "predictions = model.predict(img_array)\n",
    "score = tf.nn.softmax(predictions[0])\n",
    "\n",
    "print(\n",
    "   \"This image probably belongs to {} with a confidence of {:.2f} percent.\"\n",
    "    .format(class_names[np.argmax(score)], 100 * np.max(score))\n",
    ")"
   ]
  },
  {
   "cell_type": "code",
   "execution_count": 40,
   "id": "de485768",
   "metadata": {},
   "outputs": [],
   "source": [
    "import tensorflow as tf\n",
    "import numpy as np\n",
    "\n",
    "# Cargar el modelo guardado\n",
    "modelo_final = tf.keras.models.load_model('plant_disease_model_best.keras')"
   ]
  },
  {
   "cell_type": "code",
   "execution_count": null,
   "id": "b3e65ade",
   "metadata": {},
   "outputs": [],
   "source": [
    "# Create a converter for TensorFlow Lite with optimization\n",
    "converter = tf.lite.TFLiteConverter.from_keras_model(modelo_final)\n",
    "converter.optimizations = [tf.lite.Optimize.DEFAULT]"
   ]
  },
  {
   "cell_type": "code",
   "execution_count": null,
   "id": "72dde155",
   "metadata": {},
   "outputs": [
    {
     "name": "stderr",
     "output_type": "stream",
     "text": [
      "Summary on the non-converted ops:\n",
      "---------------------------------\n",
      " * Accepted dialects: tfl, builtin, func\n",
      " * Non-Converted Ops: 16, Total Ops 60, % non-converted = 26.67 %\n",
      " * 16 ARITH ops\n",
      "\n",
      "- arith.constant:   16 occurrences  (f32: 11, i32: 5)\n",
      "\n",
      "\n",
      "\n",
      "  (f32: 6)\n",
      "  (i32: 1)\n",
      "  (f32: 4)\n",
      "  (f32: 3)\n",
      "  (i32: 2)\n",
      "  (f32: 5)\n",
      "  (f32: 1)\n",
      "  (f32: 5)\n",
      "\n",
      "  (i32: 1)\n",
      "  (uq_8: 6)\n",
      "  (i32: 2)\n",
      "  (f32: 2)\n",
      "  (i32: 1)\n",
      "  (f32: 1)\n"
     ]
    }
   ],
   "source": [
    "# Convert the model to TensorFlow Lite format\n",
    "tflite_model = converter.convert()"
   ]
  },
  {
   "cell_type": "code",
   "execution_count": null,
   "id": "d1843655",
   "metadata": {},
   "outputs": [],
   "source": [
    "# Comentario para explicar los operadores no convertidos\n",
    "\n",
    "# La salida anterior indica que durante la conversión del modelo a TensorFlow Lite,\n",
    "# algunos operadores no se pudieron convertir a las fórmulas específicas de TensorFlow Lite.\n",
    "\n",
    "# En este caso, 16 de los 60 operadores (26.67%) no se convirtieron y se etiquetaron como\n",
    "# \"ARITH ops\" (operaciones aritméticas). Estos operadores incluyen constantes en formatos\n",
    "# de punto flotante (f32) e integer (i32).\n",
    "\n",
    "# Los operadores no convertidos pueden afectar la eficiencia del modelo, ya que estos\n",
    "# operadores tendrán que ejecutarse en su forma original en lugar de en una versión\n",
    "# optimizada para TensorFlow Lite. \n",
    "\n",
    "#Sin embargo, el modelo debería seguir funcionando correctamente en la mayoría de los casos. "
   ]
  },
  {
   "cell_type": "code",
   "execution_count": 44,
   "id": "384a12cf",
   "metadata": {},
   "outputs": [
    {
     "name": "stdout",
     "output_type": "stream",
     "text": [
      "Guardado\n"
     ]
    }
   ],
   "source": [
    "# Guardar el modelo TFLite en un archivo\n",
    "with open('modelo_final_final.tflite', 'wb') as f:\n",
    "    f.write(tflite_model)\n",
    "\n",
    "print(\"Guardado\")"
   ]
  },
  {
   "cell_type": "markdown",
   "id": "bfe9f1d3",
   "metadata": {},
   "source": [
    "___"
   ]
  }
 ],
 "metadata": {
  "kernelspec": {
   "display_name": "venv",
   "language": "python",
   "name": "python3"
  },
  "language_info": {
   "codemirror_mode": {
    "name": "ipython",
    "version": 3
   },
   "file_extension": ".py",
   "mimetype": "text/x-python",
   "name": "python",
   "nbconvert_exporter": "python",
   "pygments_lexer": "ipython3",
   "version": "3.13.5"
  }
 },
 "nbformat": 4,
 "nbformat_minor": 5
}
